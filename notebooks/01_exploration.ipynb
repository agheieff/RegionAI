{
 "cells": [
  {
   "cell_type": "markdown",
   "metadata": {},
   "source": [
    "# RegionAI Exploration Notebook\n",
    "\n",
    "This notebook demonstrates the core concepts of RegionAI - representing concepts as regions rather than points in embedding space."
   ]
  },
  {
   "cell_type": "code",
   "execution_count": null,
   "metadata": {},
   "outputs": [],
   "source": [
    "# Setup\n",
    "import sys\n",
    "sys.path.append('../src')\n",
    "\n",
    "import numpy as np\n",
    "import matplotlib.pyplot as plt\n",
    "from regionai.geometry.box2d import Box2D\n",
    "from regionai.spaces.concept_space_2d import ConceptSpace2D\n",
    "from regionai.visualization.plotter import ConceptPlotter\n",
    "from regionai.visualization.interactive_plotter import InteractivePlotter, VisualizationMode\n",
    "from regionai.visualization.selection import SelectionManager, SelectionMode, HighlightStrategy\n",
    "from regionai.analysis.relationships import RelationshipAnalyzer\n",
    "\n",
    "%matplotlib widget"
   ]
  },
  {
   "cell_type": "markdown",
   "metadata": {},
   "source": [
    "## 1. Basic Concepts: Regions vs Points\n",
    "\n",
    "Traditional embeddings represent concepts as single points. RegionAI represents them as bounded regions."
   ]
  },
  {
   "cell_type": "code",
   "execution_count": null,
   "metadata": {},
   "outputs": [],
   "source": [
    "# Create a simple concept space\n",
    "space = ConceptSpace2D()\n",
    "\n",
    "# Add concepts with different levels of specificity\n",
    "space.add_region(\"ENTITY\", Box2D(0, 0, 100, 100))  # Most general\n",
    "space.add_region(\"PHYSICAL\", Box2D(5, 5, 95, 95))  # Slightly more specific\n",
    "space.add_region(\"LIVING\", Box2D(10, 10, 60, 60))  # Living things\n",
    "space.add_region(\"ANIMAL\", Box2D(15, 15, 55, 55))  # Animals\n",
    "space.add_region(\"DOG\", Box2D(20, 20, 35, 35))    # Specific animal\n",
    "space.add_region(\"CAT\", Box2D(40, 40, 50, 50))    # Another specific animal\n",
    "\n",
    "# Visualize\n",
    "plotter = ConceptPlotter()\n",
    "fig = plotter.plot(space, title=\"Concept Hierarchy\", show_hierarchy=True)\n",
    "plt.show()"
   ]
  },
  {
   "cell_type": "markdown",
   "metadata": {},
   "source": [
    "## 2. Hierarchical Relationships\n",
    "\n",
    "Containment represents \"is-a\" relationships naturally."
   ]
  },
  {
   "cell_type": "code",
   "execution_count": null,
   "metadata": {},
   "outputs": [],
   "source": [
    "# Analyze the hierarchical relationships\n",
    "analyzer = RelationshipAnalyzer(space)\n",
    "chains = analyzer.find_hierarchical_chains()\n",
    "\n",
    "print(\"Hierarchical chains found:\")\n",
    "for chain in chains:\n",
    "    print(f\"  {chain}\")\n",
    "\n",
    "# Check specific relationships\n",
    "dog_region = space.get_region(\"DOG\")\n",
    "animal_region = space.get_region(\"ANIMAL\")\n",
    "\n",
    "print(f\"\\nDOG is contained in ANIMAL: {animal_region.contains(dog_region)}\")\n",
    "print(f\"DOG volume: {dog_region.volume():.1f}\")\n",
    "print(f\"ANIMAL volume: {animal_region.volume():.1f}\")"
   ]
  },
  {
   "cell_type": "markdown",
   "metadata": {},
   "source": [
    "## 3. Multiple Inheritance Through Overlaps\n",
    "\n",
    "Overlapping regions naturally represent concepts that belong to multiple categories."
   ]
  },
  {
   "cell_type": "code",
   "execution_count": null,
   "metadata": {},
   "outputs": [],
   "source": [
    "# Create a space with overlapping concepts\n",
    "overlap_space = ConceptSpace2D()\n",
    "\n",
    "# Base categories\n",
    "overlap_space.add_region(\"ANIMAL\", Box2D(10, 10, 70, 70))\n",
    "overlap_space.add_region(\"FLYING_THING\", Box2D(40, 10, 100, 70))\n",
    "overlap_space.add_region(\"AQUATIC\", Box2D(10, 40, 70, 100))\n",
    "\n",
    "# Things with multiple inheritance\n",
    "overlap_space.add_region(\"BIRD\", Box2D(45, 15, 65, 35))  # Animal + Flying\n",
    "overlap_space.add_region(\"BAT\", Box2D(50, 45, 60, 55))   # Animal + Flying\n",
    "overlap_space.add_region(\"FISH\", Box2D(15, 45, 35, 65))  # Animal + Aquatic\n",
    "overlap_space.add_region(\"PENGUIN\", Box2D(35, 50, 45, 60))  # Animal + Aquatic (flightless bird)\n",
    "\n",
    "# Visualize\n",
    "fig = plotter.plot(overlap_space, title=\"Multiple Inheritance via Overlaps\")\n",
    "plt.show()\n",
    "\n",
    "# Analyze overlaps\n",
    "for concept in [\"BIRD\", \"BAT\", \"FISH\", \"PENGUIN\"]:\n",
    "    region = overlap_space.get_region(concept)\n",
    "    containers = overlap_space.find_containing_regions(region)\n",
    "    print(f\"{concept} belongs to: {', '.join(containers)}\")"
   ]
  },
  {
   "cell_type": "markdown",
   "metadata": {},
   "source": [
    "## 4. Interactive Exploration\n",
    "\n",
    "Use the interactive plotter to explore relationships dynamically."
   ]
  },
  {
   "cell_type": "code",
   "execution_count": null,
   "metadata": {},
   "outputs": [],
   "source": [
    "# Create an interactive plot\n",
    "interactive_plotter = InteractivePlotter(overlap_space)\n",
    "fig = interactive_plotter.create_interactive_plot(title=\"Interactive Concept Explorer\")\n",
    "\n",
    "print(\"Keyboard shortcuts:\")\n",
    "print(\"  Click: Select/deselect region\")\n",
    "print(\"  ESC: Clear selection\")\n",
    "print(\"  H: Hierarchy mode\")\n",
    "print(\"  O: Overlap mode\")\n",
    "print(\"  D: Debug mode\")\n",
    "print(\"  TAB: Cycle through regions\")\n",
    "\n",
    "plt.show()"
   ]
  },
  {
   "cell_type": "markdown",
   "metadata": {},
   "source": [
    "## 5. Concept Space Analysis\n",
    "\n",
    "Analyze the structure and relationships in the concept space."
   ]
  },
  {
   "cell_type": "code",
   "execution_count": null,
   "metadata": {},
   "outputs": [],
   "source": [
    "# Perform comprehensive analysis\n",
    "analyzer = RelationshipAnalyzer(overlap_space)\n",
    "results = analyzer.analyze_all()\n",
    "\n",
    "print(\"=== Concept Space Statistics ===\")\n",
    "for key, value in results.statistics.items():\n",
    "    print(f\"{key}: {value:.2f}\")\n",
    "\n",
    "print(\"\\n=== Hierarchical Chains ===\")\n",
    "for chain in results.hierarchies:\n",
    "    print(f\"  {chain}\")\n",
    "\n",
    "# Calculate conceptual distances\n",
    "print(\"\\n=== Conceptual Distances ===\")\n",
    "concepts = [\"BIRD\", \"BAT\", \"FISH\", \"PENGUIN\"]\n",
    "for i, c1 in enumerate(concepts):\n",
    "    for c2 in concepts[i+1:]:\n",
    "        distance = analyzer.find_conceptual_distance(c1, c2)\n",
    "        print(f\"Distance {c1} <-> {c2}: {distance:.2f}\")"
   ]
  },
  {
   "cell_type": "markdown",
   "metadata": {},
   "source": [
    "## 6. Creating Complex Hierarchies\n",
    "\n",
    "Build more sophisticated concept spaces representing real-world knowledge."
   ]
  },
  {
   "cell_type": "code",
   "execution_count": null,
   "metadata": {},
   "outputs": [],
   "source": [
    "# Create a knowledge hierarchy\n",
    "knowledge_space = ConceptSpace2D()\n",
    "\n",
    "# Top level: Everything\n",
    "knowledge_space.add_region(\"KNOWLEDGE\", Box2D(0, 0, 200, 200))\n",
    "\n",
    "# Major branches\n",
    "knowledge_space.add_region(\"SCIENCE\", Box2D(10, 10, 90, 190))\n",
    "knowledge_space.add_region(\"ARTS\", Box2D(110, 10, 190, 190))\n",
    "\n",
    "# Science subcategories\n",
    "knowledge_space.add_region(\"PHYSICS\", Box2D(15, 15, 45, 90))\n",
    "knowledge_space.add_region(\"CHEMISTRY\", Box2D(50, 15, 85, 90))\n",
    "knowledge_space.add_region(\"BIOLOGY\", Box2D(15, 100, 85, 180))\n",
    "\n",
    "# Interdisciplinary (overlapping)\n",
    "knowledge_space.add_region(\"BIOCHEMISTRY\", Box2D(45, 95, 75, 125))  # Chemistry + Biology\n",
    "knowledge_space.add_region(\"BIOPHYSICS\", Box2D(20, 85, 50, 115))    # Physics + Biology\n",
    "\n",
    "# Arts subcategories  \n",
    "knowledge_space.add_region(\"VISUAL_ARTS\", Box2D(115, 15, 185, 90))\n",
    "knowledge_space.add_region(\"MUSIC\", Box2D(115, 100, 185, 180))\n",
    "\n",
    "# Cross-domain (Science + Arts)\n",
    "knowledge_space.add_region(\"VISUALIZATION\", Box2D(85, 50, 115, 80))  # Science + Visual Arts\n",
    "knowledge_space.add_region(\"SONIFICATION\", Box2D(85, 120, 115, 150))  # Science + Music\n",
    "\n",
    "# Create interactive visualization\n",
    "knowledge_plotter = InteractivePlotter(knowledge_space)\n",
    "fig = knowledge_plotter.create_interactive_plot(title=\"Knowledge Domain Hierarchy\")\n",
    "plt.show()"
   ]
  },
  {
   "cell_type": "markdown",
   "metadata": {},
   "source": [
    "## 7. Programmatic Interaction\n",
    "\n",
    "Use the SelectionManager for programmatic control over selections."
   ]
  },
  {
   "cell_type": "code",
   "execution_count": null,
   "metadata": {},
   "outputs": [],
   "source": [
    "# Create selection manager\n",
    "selection_mgr = SelectionManager(knowledge_space, mode=SelectionMode.MULTIPLE)\n",
    "selection_mgr.set_highlight_strategy(HighlightStrategy.RELATED)\n",
    "\n",
    "# Select interdisciplinary fields\n",
    "print(\"Selecting interdisciplinary fields...\")\n",
    "selection_mgr.select_region(\"BIOCHEMISTRY\")\n",
    "selection_mgr.select_region(\"VISUALIZATION\")\n",
    "\n",
    "# Get selection info\n",
    "info = selection_mgr.get_selection_info()\n",
    "print(\"\\nSelected regions:\", info['selected'])\n",
    "print(\"Highlighted regions:\", info['highlighted'])\n",
    "\n",
    "# Explore relationships\n",
    "print(\"\\nRelationships for selected regions:\")\n",
    "for region_name, rels in info['relationships'].items():\n",
    "    print(f\"\\n{region_name}:\")\n",
    "    for rel_type, related in rels.items():\n",
    "        if related:\n",
    "            print(f\"  {rel_type}: {', '.join(related)}\")"
   ]
  },
  {
   "cell_type": "markdown",
   "metadata": {},
   "source": [
    "## 8. Future Directions\n",
    "\n",
    "This 2D visualization is just the beginning. The same concepts extend to:\n",
    "\n",
    "1. **Higher Dimensions**: Real embeddings would use hundreds of dimensions\n",
    "2. **Dynamic Regions**: Regions that change based on context\n",
    "3. **Probabilistic Regions**: Fuzzy boundaries for uncertain concepts\n",
    "4. **Learning**: Discovering regions from data rather than manual definition\n",
    "\n",
    "The key insight is that representing concepts as regions rather than points enables:\n",
    "- Explicit uncertainty representation\n",
    "- Natural hierarchies through containment\n",
    "- Multiple inheritance through overlaps\n",
    "- Graded membership based on position within regions"
   ]
  }
 ],
 "metadata": {
  "kernelspec": {
   "display_name": "Python 3",
   "language": "python",
   "name": "python3"
  },
  "language_info": {
   "codemirror_mode": {
    "name": "ipython",
    "version": 3
   },
   "file_extension": ".py",
   "mimetype": "text/x-python",
   "name": "python",
   "nbconvert_exporter": "python",
   "pygments_lexer": "ipython3",
   "version": "3.8.0"
  }
 },
 "nbformat": 4,
 "nbformat_minor": 4
}